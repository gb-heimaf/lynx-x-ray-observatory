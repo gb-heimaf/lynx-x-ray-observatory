{
 "cells": [
  {
   "cell_type": "markdown",
   "metadata": {},
   "source": [
    "Using the SOXS Python interface, this example shows how to generate photons from two thermal spectra and two $\\beta$-model spatial distributions, as an approximation of two galaxy clusters. "
   ]
  },
  {
   "cell_type": "code",
   "execution_count": null,
   "metadata": {
    "collapsed": true
   },
   "outputs": [],
   "source": [
    "%matplotlib inline\n",
    "import matplotlib\n",
    "matplotlib.rc(\"font\", size=18)\n",
    "import soxs"
   ]
  },
  {
   "cell_type": "markdown",
   "metadata": {},
   "source": [
    "We want to generate thermal spectra, so we first create a spectral generator using the ``ApecGenerator`` class:"
   ]
  },
  {
   "cell_type": "code",
   "execution_count": null,
   "metadata": {
    "collapsed": true
   },
   "outputs": [],
   "source": [
    "emin = 0.05 # keV\n",
    "emax = 20.0 # keV\n",
    "nbins = 20000 \n",
    "agen = soxs.ApecGenerator(emin, emax, nbins)"
   ]
  },
  {
   "cell_type": "markdown",
   "metadata": {},
   "source": [
    "Next, we'll generate the two thermal spectra. We'll set the APEC norm for each to 1, and renormalize them later:"
   ]
  },
  {
   "cell_type": "code",
   "execution_count": null,
   "metadata": {
    "collapsed": true
   },
   "outputs": [],
   "source": [
    "kT1 = 6.0\n",
    "abund1 = 0.3\n",
    "redshift1 = 0.05\n",
    "norm1 = 1.0\n",
    "spec1 = agen.get_spectrum(kT1, abund1, redshift1, norm1)"
   ]
  },
  {
   "cell_type": "code",
   "execution_count": null,
   "metadata": {
    "collapsed": true
   },
   "outputs": [],
   "source": [
    "kT2 = 4.0\n",
    "abund2 = 0.4\n",
    "redshift2 = 0.1\n",
    "norm2 = 1.0\n",
    "spec2 = agen.get_spectrum(kT2, abund2, redshift2, norm2)"
   ]
  },
  {
   "cell_type": "markdown",
   "metadata": {},
   "source": [
    "Now, re-normalize the spectra using energy fluxes between 0.5-2.0 keV:"
   ]
  },
  {
   "cell_type": "code",
   "execution_count": null,
   "metadata": {
    "collapsed": true
   },
   "outputs": [],
   "source": [
    "flux1 = 1.0e-13 # erg/s/cm**2\n",
    "flux2 = 5.0e-14 # erg/s/cm**2\n",
    "emin = 0.5 # keV\n",
    "emax = 2.0 # keV\n",
    "spec1.rescale_flux(flux1, emin=0.5, emax=2.0, flux_type=\"energy\")\n",
    "spec2.rescale_flux(flux2, emin=0.5, emax=2.0, flux_type=\"energy\")"
   ]
  },
  {
   "cell_type": "markdown",
   "metadata": {},
   "source": [
    "We'll also apply foreground galactic absorption to each spectrum:"
   ]
  },
  {
   "cell_type": "code",
   "execution_count": null,
   "metadata": {
    "collapsed": true
   },
   "outputs": [],
   "source": [
    "n_H = 0.04 # 10^20 atoms/cm^2\n",
    "spec1.apply_foreground_absorption(n_H)\n",
    "spec2.apply_foreground_absorption(n_H)"
   ]
  },
  {
   "cell_type": "markdown",
   "metadata": {},
   "source": [
    "``spec1`` and ``spec2`` are ``Spectrum`` objects. Let's have a look at the spectra:"
   ]
  },
  {
   "cell_type": "code",
   "execution_count": null,
   "metadata": {
    "collapsed": true,
    "scrolled": false
   },
   "outputs": [],
   "source": [
    "fig, ax = spec1.plot(xmin=0.1, xmax=20.0, ymin=1.0e-8, ymax=1.0e-3, \n",
    "                     label=\"$\\mathrm{kT\\ =\\ 6\\ keV,\\ Z\\ =\\ 0.3\\ Z_\\odot,\\ z\\ =\\ 0.05}$\",\n",
    "                     legend_kwargs={\"fontsize\":14})\n",
    "spec2.plot(label=\"$\\mathrm{kT\\ =\\ 4\\ keV,\\ Z\\ =\\ 0.4\\ Z_\\odot,\\ z\\ =\\ 0.1}$\",\n",
    "           fig=fig, ax=ax)"
   ]
  },
  {
   "cell_type": "markdown",
   "metadata": {},
   "source": [
    "Now what we want to do is associate spatial distributions with these spectra. Each cluster will be represented using a $\\beta$-model. For that, we use the ``BetaModel`` class. For fun, we'll give the second ``BetaModel`` an ellipticity and tilt it by 45 degrees (a bit extreme, but it demonstrates the functionality nicely):"
   ]
  },
  {
   "cell_type": "code",
   "execution_count": null,
   "metadata": {
    "collapsed": true
   },
   "outputs": [],
   "source": [
    "# Parameters for the clusters\n",
    "r_c1 = 30.0 # in arcsec\n",
    "r_c2 = 20.0 # in arcsec\n",
    "beta1 = 2.0/3.0\n",
    "beta2 = 1.0\n",
    "\n",
    "# Center of the field of view\n",
    "ra0 = 30.0 # degrees\n",
    "dec0 = 45.0 # degrees\n",
    "\n",
    "# Space the clusters roughly a few arcminutes apart on the sky. \n",
    "# They're at different redshifts, so one is behind the other.\n",
    "dx = 3.0/60.0 # degrees\n",
    "ra1 = ra0 - 0.5*dx\n",
    "dec1 = dec0 - 0.5*dx\n",
    "ra2 = ra0 + 0.5*dx\n",
    "dec2 = dec0 + 0.5*dx\n",
    "\n",
    "# Now actually create the models\n",
    "pos1 = soxs.BetaModel(ra1, dec1, r_c1, beta1, ellipticity=0.5, theta=45.0)\n",
    "pos2 = soxs.BetaModel(ra2, dec2, r_c2, beta2)"
   ]
  },
  {
   "cell_type": "markdown",
   "metadata": {},
   "source": [
    "Now, what we want to do is generate energies and positions from these models. We want to create a large sample that we'll draw from when we run the instrument simulator, so we choose a large exposure time and a large collecting area (should be bigger than the maximum of the ARF). To do this, we use the `from_models()` method of the `PhotonList` class to make instances of the latter:"
   ]
  },
  {
   "cell_type": "code",
   "execution_count": null,
   "metadata": {
    "collapsed": true
   },
   "outputs": [],
   "source": [
    "t_exp = (500.0, \"ks\")\n",
    "area = (3.0, \"m**2\")\n",
    "cluster1 = soxs.PhotonList.from_models(\"cluster1\", spec1, pos1, t_exp, area)\n",
    "cluster2 = soxs.PhotonList.from_models(\"cluster2\", spec2, pos2, t_exp, area)"
   ]
  },
  {
   "cell_type": "markdown",
   "metadata": {},
   "source": [
    "We can quickly show the positions using the `plot()` method of the `PhotonList` instances. For simplicity, we'll only show every 100th event using the ``stride`` argument, and restrict ourselves to a roughly $20'\\times~20'$ field of view. This functionality requires the [WCSAxes](http://wcsaxes.readthedocs.io/) package to be installed. "
   ]
  },
  {
   "cell_type": "code",
   "execution_count": null,
   "metadata": {
    "collapsed": true
   },
   "outputs": [],
   "source": [
    "fig, ax = cluster1.plot([30.0, 45.0], 6.0, marker='.', stride=100)\n",
    "cluster2.plot([30.0, 45.0], 6.0, marker='.', stride=100, fig=fig, ax=ax)"
   ]
  },
  {
   "cell_type": "markdown",
   "metadata": {},
   "source": [
    "Now that we have the positions and the energies of the photons in the `PhotonList`s, we can write them to a SIMPUT catalog, using the `SimputCatalog` class. Each cluster will have its own photon list, but be part of the same SIMPUT catalog:"
   ]
  },
  {
   "cell_type": "code",
   "execution_count": null,
   "metadata": {
    "collapsed": true
   },
   "outputs": [],
   "source": [
    "# Create the SIMPUT catalog \"sim_cat\" from the photon lists \"cluster1\" and \"cluster2\"\n",
    "sim_cat = soxs.SimputCatalog([cluster1, cluster2])\n",
    "# Write the catalog to a file \"clusters_simput.fits\"\n",
    "sim_cat.write_catalog(\"clusters\", overwrite=True)"
   ]
  },
  {
   "cell_type": "markdown",
   "metadata": {},
   "source": [
    "Finally, we can use the instrument simulator to simulate the two clusters by ingesting the SIMPUT file, setting an output file \"evt.fits\", setting an exposure time of 50 ks (less than the one we used to generate the source), the \"hdxi\" instrument, and the pointing direction of (RA, Dec) = (30.,45.) degrees."
   ]
  },
  {
   "cell_type": "code",
   "execution_count": null,
   "metadata": {
    "collapsed": true
   },
   "outputs": [],
   "source": [
    "soxs.instrument_simulator(\"clusters_simput.fits\", \"evt.fits\", (50.0, \"ks\"), \"hdxi\", [30., 45.], overwrite=True)"
   ]
  },
  {
   "cell_type": "markdown",
   "metadata": {},
   "source": [
    "We can use the `write_image()` function in SOXS to bin the events into an image and write them to a file, restricting the energies between 0.5 and 2.0 keV:"
   ]
  },
  {
   "cell_type": "code",
   "execution_count": null,
   "metadata": {
    "collapsed": true
   },
   "outputs": [],
   "source": [
    "soxs.write_image(\"evt.fits\", \"img.fits\", emin=0.5, emax=2.0, overwrite=True)"
   ]
  },
  {
   "cell_type": "markdown",
   "metadata": {},
   "source": [
    "The image below plotted using [APLpy](https://aplpy.github.io/) shows the resulting image:"
   ]
  },
  {
   "cell_type": "code",
   "execution_count": null,
   "metadata": {
    "collapsed": true
   },
   "outputs": [],
   "source": [
    "import aplpy\n",
    "fig = aplpy.FITSFigure(\"img.fits\")\n",
    "fig.show_colorscale(vmin=0.1, vmax=10.0, stretch='log', cmap=\"viridis\")\n",
    "fig.recenter(30., 45., width=0.1, height=0.1) # Centered on the source center with a width of 6 arcmin"
   ]
  }
 ],
 "metadata": {
  "anaconda-cloud": {},
  "kernelspec": {
   "display_name": "Python [default]",
   "language": "python",
   "name": "python3"
  },
  "language_info": {
   "codemirror_mode": {
    "name": "ipython",
    "version": 3
   },
   "file_extension": ".py",
   "mimetype": "text/x-python",
   "name": "python",
   "nbconvert_exporter": "python",
   "pygments_lexer": "ipython3",
   "version": "3.6.1"
  }
 },
 "nbformat": 4,
 "nbformat_minor": 1
}
