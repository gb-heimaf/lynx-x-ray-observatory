{
 "cells": [
  {
   "cell_type": "markdown",
   "metadata": {},
   "source": [
    "The `make_background_file()` function allows one to create an event file of a background for a particular instrument configuration. This event file can then be added as background to any source event file one creates using `instrument_simulator()`. `make_background_file()` also allows one to specify a particular set of point sources to make the point-source contribution to the background, or to create the point-source properties on the fly. In this example, we will show how to do the former using a point source table created by `make_point_source_list()`."
   ]
  },
  {
   "cell_type": "markdown",
   "metadata": {},
   "source": [
    "First, import our modules:"
   ]
  },
  {
   "cell_type": "code",
   "execution_count": null,
   "metadata": {
    "collapsed": true
   },
   "outputs": [],
   "source": [
    "%matplotlib inline\n",
    "import matplotlib\n",
    "matplotlib.rc(\"font\", size=18)\n",
    "import soxs"
   ]
  },
  {
   "cell_type": "markdown",
   "metadata": {},
   "source": [
    "Second, define our parameters:"
   ]
  },
  {
   "cell_type": "code",
   "execution_count": null,
   "metadata": {
    "collapsed": true
   },
   "outputs": [],
   "source": [
    "exp_time = (300.0, \"ks\") # in seconds\n",
    "fov = 20.0 # in arcmin, used only for the point source generation\n",
    "sky_center = [22.,-27.0] # in degrees"
   ]
  },
  {
   "cell_type": "markdown",
   "metadata": {},
   "source": [
    "Now, use `make_point_source_list()` to create an ASCII table of point source properties that can be used when creating the bakground. We'll set a random seed using the `prng` parameter to use a unique set of random numbers."
   ]
  },
  {
   "cell_type": "code",
   "execution_count": null,
   "metadata": {
    "collapsed": true
   },
   "outputs": [],
   "source": [
    "soxs.make_point_source_list(\"point_source_table.dat\", exp_time, fov, sky_center, prng=24)"
   ]
  },
  {
   "cell_type": "markdown",
   "metadata": {},
   "source": [
    "We can use this table of point source properties as an input to `make_point_sources_file()` or to `make_background_file()` to control precisely the properties of the generated sources. Because in this example we want to create a background, we'll use `make_background_file()`. We have to pass the name of the table we created to the ``input_sources`` parameter if we want to use it:"
   ]
  },
  {
   "cell_type": "code",
   "execution_count": null,
   "metadata": {
    "collapsed": true
   },
   "outputs": [],
   "source": [
    "soxs.make_background_file(\"bkgnd_evt.fits\", exp_time, \"hdxi\", sky_center, \n",
    "                          input_sources=\"point_source_table.dat\", overwrite=True, prng=24)"
   ]
  },
  {
   "cell_type": "markdown",
   "metadata": {},
   "source": [
    "We can use the `write_image()` function in SOXS to bin the events into an image and write them to a file, restricting the energies between 0.7 and 2.0 keV:"
   ]
  },
  {
   "cell_type": "code",
   "execution_count": null,
   "metadata": {
    "collapsed": true
   },
   "outputs": [],
   "source": [
    "soxs.write_image(\"bkgnd_evt.fits\", \"bkgnd_img.fits\", emin=0.7, emax=2.0, overwrite=True)"
   ]
  },
  {
   "cell_type": "markdown",
   "metadata": {},
   "source": [
    "We can use [APLpy](https://aplpy.github.io/) to show the resulting image:"
   ]
  },
  {
   "cell_type": "code",
   "execution_count": null,
   "metadata": {
    "collapsed": true
   },
   "outputs": [],
   "source": [
    "import aplpy\n",
    "fig = aplpy.FITSFigure(\"bkgnd_img.fits\")\n",
    "fig.show_colorscale(stretch='sqrt', cmap=\"plasma\")\n",
    "fig.recenter(22., -27.0, width=0.03, height=0.03)"
   ]
  }
 ],
 "metadata": {
  "kernelspec": {
   "display_name": "Python [default]",
   "language": "python",
   "name": "python3"
  },
  "language_info": {
   "codemirror_mode": {
    "name": "ipython",
    "version": 3
   },
   "file_extension": ".py",
   "mimetype": "text/x-python",
   "name": "python",
   "nbconvert_exporter": "python",
   "pygments_lexer": "ipython3",
   "version": "3.6.1"
  }
 },
 "nbformat": 4,
 "nbformat_minor": 1
}
